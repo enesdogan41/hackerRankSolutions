{
 "cells": [
  {
   "cell_type": "code",
   "execution_count": null,
   "metadata": {},
   "outputs": [],
   "source": [
    "from collections import Counter\n",
    "#Cut the sticks solution\n",
    "def cutTheSticks(arr):\n",
    "    result = []\n",
    "    n = len(arr)\n",
    "    s = Counter(arr)\n",
    "\n",
    "    for i in sorted(s.keys()):\n",
    "        result.append(n)\n",
    "        n -= s[i]\n",
    "    return result"
   ]
  }
 ],
 "metadata": {
  "kernelspec": {
   "display_name": "Python 3",
   "language": "python",
   "name": "python3"
  },
  "language_info": {
   "codemirror_mode": {
    "name": "ipython",
    "version": 3
   },
   "file_extension": ".py",
   "mimetype": "text/x-python",
   "name": "python",
   "nbconvert_exporter": "python",
   "pygments_lexer": "ipython3",
   "version": "3.8.3"
  }
 },
 "nbformat": 4,
 "nbformat_minor": 4
}
