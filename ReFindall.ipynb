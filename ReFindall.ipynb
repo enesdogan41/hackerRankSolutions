{
 "cells": [
  {
   "cell_type": "code",
   "execution_count": null,
   "metadata": {},
   "outputs": [],
   "source": [
    "import re\n",
    "def find_substrings(input_string):\n",
    "    vowel = '[aeiou]'\n",
    "    consonant = '[qwrtypsdfghjklzxcvbnm]'\n",
    "    return re.findall(r'{consonant}({vowel}{{2,}})(?={consonant})'.format(vowel=vowel,consonant=consonant),input_string,re.IGNORECASE)\n",
    "def main():\n",
    "    input_string = input()\n",
    "    substrings = find_substrings(input_string)\n",
    "    if substrings:\n",
    "        print(*substrings,sep='\\n')\n",
    "    else:\n",
    "        print(-1)\n",
    "if __name__ == '__main__':\n",
    "    main()"
   ]
  }
 ],
 "metadata": {
  "kernelspec": {
   "display_name": "Python 3",
   "language": "python",
   "name": "python3"
  },
  "language_info": {
   "codemirror_mode": {
    "name": "ipython",
    "version": 3
   },
   "file_extension": ".py",
   "mimetype": "text/x-python",
   "name": "python",
   "nbconvert_exporter": "python",
   "pygments_lexer": "ipython3",
   "version": "3.8.3"
  }
 },
 "nbformat": 4,
 "nbformat_minor": 4
}
