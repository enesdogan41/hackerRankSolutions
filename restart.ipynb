{
 "cells": [
  {
   "cell_type": "code",
   "execution_count": null,
   "metadata": {},
   "outputs": [],
   "source": [
    "import re\n",
    "string = input()\n",
    "substring = input()\n",
    "pattern = re.compile(substring)\n",
    "match = pattern.search(string)\n",
    "if not match:\n",
    "    print(\"(-1, -1)\")\n",
    "while match:\n",
    "    print('{},{}'.format(match.start(),match.end()-1))\n",
    "    match = pattern.search(string,match.start()+1)\n"
   ]
  }
 ],
 "metadata": {
  "kernelspec": {
   "display_name": "Python 3",
   "language": "python",
   "name": "python3"
  },
  "language_info": {
   "codemirror_mode": {
    "name": "ipython",
    "version": 3
   },
   "file_extension": ".py",
   "mimetype": "text/x-python",
   "name": "python",
   "nbconvert_exporter": "python",
   "pygments_lexer": "ipython3",
   "version": "3.8.3"
  }
 },
 "nbformat": 4,
 "nbformat_minor": 4
}
